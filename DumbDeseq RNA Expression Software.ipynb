{
 "cells": [
  {
   "cell_type": "markdown",
   "id": "19b99063",
   "metadata": {},
   "source": [
    "---\n",
    "title: \"DumbDeseq: RNA Expression Analysis Project\"\n",
    "output: html_notebook\n",
    "---\n",
    "This project involves the analysis of a processed RNA-seq dataset derived from an experiment comparing gene expression between diseased cell lines and diseased cell lines treated with Compound X. The primary aim is to explore how treatment with Compound X alters gene expression levels in the diseased state.\n",
    "\n",
    "The table below displays the first six genes from the dataset. Each row includes the gene name, the log₂ fold change   in expression between untreated and treated samples, the p-value indicating the statistical significance of the change, and the adjusted p-value (padj) for multiple testing correction."
   ]
  },
  {
   "cell_type": "code",
   "execution_count": null,
   "id": "4791cd24",
   "metadata": {},
   "outputs": [],
   "source": [
    "library(ggplot2)\n",
    "library(dplyr)\n",
    "library(RColorBrewer)\n",
    "library(ggrepel)\n",
    "Genes <- RNA.exper\n",
    "head(Genes)"
   ]
  },
  {
   "cell_type": "markdown",
   "id": "8b98041d",
   "metadata": {},
   "source": [
    "---------------------------------------------\n",
    "\n",
    "This volcano plot visualizes the differential gene expression between diseased cell lines and those treated with Compound X. Each point represents a gene, plotted by its log₂ fold change (x-axis) and the -log₁₀ of its p-value (y-axis). Genes are color-coded based on significance thresholds:\n",
    "\n",
    "          Upregulated genes (log₂FC > 1 and p < 0.01) are shown in red\n",
    "\n",
    "          Downregulated genes (log₂FC < -1 and p < 0.01) are shown in blue\n",
    "\n",
    "          Genes that do not meet significance criteria are labeled as \"Not significant\" and appear in grey\n",
    "\n",
    "Dashed vertical red lines indicate fold change thresholds at ±1, and the dashed horizontal blue line indicates the significance threshold (p = 0.01). This plot helps to quickly identify genes with both statistically significant and biologically meaningful changes in expression.\n"
   ]
  },
  {
   "cell_type": "code",
   "execution_count": null,
   "id": "33012a10",
   "metadata": {},
   "outputs": [],
   "source": [
    "Genes <- Genes %>%\n",
    "  mutate(diffexpressed = case_when(\n",
    "    log2FoldChange > 1 & pvalue < 0.01 ~ \"Upregulated\",\n",
    "    log2FoldChange < -1 & pvalue < 0.01 ~ \"Downregulated\",\n",
    "    TRUE ~ \"Not significant\"))\n"
   ]
  },
  {
   "cell_type": "markdown",
   "id": "8adaf855",
   "metadata": {},
   "source": []
  },
  {
   "cell_type": "code",
   "execution_count": null,
   "id": "e71652bc",
   "metadata": {},
   "outputs": [],
   "source": [
    "ggplot(data = Genes, aes(x = log2FoldChange, y = -log10(pvalue), col = diffexpressed)) +\n",
    "  geom_point(size = 1.5, alpha = 0.6) +  \n",
    "  geom_vline(xintercept = c(-1, 1), linetype = \"dashed\", col = \"red\") +\n",
    "  geom_hline(yintercept = -log10(0.01), linetype = \"dashed\", col = \"blue\") +\n",
    "  scale_color_manual(\n",
    "    values = c(\"Downregulated\" = \"blue\", \n",
    "               \"Not significant\" = \"grey\", \n",
    "               \"Upregulated\" = \"red\")\n",
    "  ) +\n",
    "  labs(\n",
    "    title = \"Differential Gene Expression\",\n",
    "    x = \"Log2 Fold\",\n",
    "    y = \"p-value\",\n",
    "    color = \"Expression\"\n",
    "  ) +\n",
    "  theme(\n",
    "    axis.title.y = element_text(face = \"bold\", margin = margin(0,20,0,0), size = rel(1.1), color = 'black'),\n",
    "    axis.title.x = element_text(hjust = 0.5, face = \"bold\", margin = margin(20,0,0,0), size = rel(1.1), color = 'black'),\n",
    "    plot.title = element_text(hjust = 0.5),\n",
    " legend.position = \"topright\") +\n",
    "  theme_set(theme_classic(base_size = 20))"
   ]
  },
  {
   "cell_type": "markdown",
   "id": "03d7e7c3",
   "metadata": {},
   "source": [
    "Differential Expression Summary\n",
    "To identify significantly altered genes, we applied a filtering criterion of:\n",
    "\n",
    "log₂ fold change > 1 and p-value < 0.01 for upregulated genes\n",
    "\n",
    "log₂ fold change < -1 and p-value < 0.01 for downregulated genes\n",
    "\n",
    "Based on these thresholds:\n",
    "\n",
    "  Number of upregulated genes: 19\n",
    "\n",
    "  Number of downregulated genes: 91\n"
   ]
  },
  {
   "cell_type": "code",
   "execution_count": null,
   "id": "e8199ce9",
   "metadata": {},
   "outputs": [],
   "source": [
    "up_genes <- Genes %>%\n",
    "  filter(log2FoldChange > 1 & pvalue < 0.01)\n",
    "\n",
    "down_genes <- Genes %>%\n",
    "  filter(log2FoldChange < -1 & pvalue < 0.01)\n",
    "cat(\"Number of upregulated genes:\", nrow(up_genes), \"\\n\")\n",
    "cat(\"Number of downregulated genes:\", nrow(down_genes), \"\\n\")"
   ]
  },
  {
   "cell_type": "code",
   "execution_count": null,
   "id": "2ad1c4b0",
   "metadata": {},
   "outputs": [],
   "source": [
    "head(down_genes, 5)"
   ]
  },
  {
   "cell_type": "markdown",
   "id": "231debda",
   "metadata": {},
   "source": [
    "there's the most 5 genes and their function that down regulated :\n",
    "\n",
    "1-TBX5 Function:\n",
    "-DNA-binding protein that regulates the transcription of several genes and is involved in heart development and limb pattern formation and \n",
    "Binds to the core DNA motif of NPPA promoter.\n",
    "\n",
    "2- IFITM1 Function:\n",
    "-IFN-induced antiviral protein which inhibits the entry of viruses to the host cell cytoplasm.\n",
    "-Can inhibit: influenza virus hemagglutinin protein-mediated viral entry.\n",
    "-Plays a key role in the antiproliferative action of IFN-gamma either by inhibiting the ERK activation or\n",
    "by arresting cell growth in G1 phase in a p53-dependent manner.\n",
    "\n",
    "3-LAMA2 Function:\n",
    "-Binding to cells via a high affinity receptor, laminin is thought to mediate the attachment, migration and organization of cells\n",
    "into tissues during embryonic development by interacting with other extracellular matrix components.\n",
    "\n",
    "4-CAV2 Function:\n",
    "-May act as a scaffolding protein within caveolar membranes.\n",
    "-Interacts directly with G-protein alpha subunits and can functionally regulate their activity.\n",
    "-Acts as an accessory protein in conjunction with CAV1 in targeting to lipid rafts and driving caveolae formation.\n",
    "\n",
    "5-TNN Function:\n",
    "-Extracellular matrix protein that seems to be a ligand for ITGA8:ITGB1, ITGAV:ITGB1 and ITGA4:ITGB1 (By similarity) .\n",
    "Involved in neurite outgrowth and cell migration in hippocampal explants.\n",
    "-During endochondral bone formation, inhibits proliferation and differentiation of proteoblasts mediated by canonical WNT signaling.\n",
    "-In tumors, stimulates angiogenesis by elongation, migration and sprouting of endothelial cells.\n"
   ]
  },
  {
   "cell_type": "code",
   "execution_count": null,
   "id": "1da90584",
   "metadata": {},
   "outputs": [],
   "source": [
    "head(up_genes, 5)"
   ]
  },
  {
   "cell_type": "markdown",
   "id": "b9d0b1a8",
   "metadata": {},
   "source": [
    "there's the most 5 genes and their function that up-regulated :\n",
    "\n",
    "1-EMILIN2 Function:\n",
    "-May be responsible for anchoring smooth muscle cells to elastic fibers, and may be involved not only in the formation of the elastic fiber, \n",
    "but also in the processes that regulate vessel assembly.\n",
    "-Has cell adhesive capacity.\n",
    "\n",
    "2-POU3F4 Function:\n",
    "-Probable transcription factor which exert its primary action widely during early neuraldevelopment and in avery limited set of neurons \n",
    "in the mature brain.\n",
    "\n",
    "3-LOC285954(INHBA-AS1) No data available for this gene.\n",
    "\n",
    "4-VEPH1 Function:\n",
    "Interacts with TGF-beta receptor type-1 (TGFBR1) and inhibits dissociation of activated SMAD2 from TGFBR1, impeding its nuclear accumulation \n",
    "and resulting in impaired TGF-beta signaling.\n",
    "May also affect FOXO, Hippo and WNT signaling. \n",
    "\n",
    "5-DTHD1 also No data available for this gene."
   ]
  }
 ],
 "metadata": {},
 "nbformat": 4,
 "nbformat_minor": 5
}
